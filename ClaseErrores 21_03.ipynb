{
  "nbformat": 4,
  "nbformat_minor": 0,
  "metadata": {
    "colab": {
      "provenance": [],
      "authorship_tag": "ABX9TyNX1NjNxNxQallRfGQzwGKc",
      "include_colab_link": true
    },
    "kernelspec": {
      "name": "python3",
      "display_name": "Python 3"
    },
    "language_info": {
      "name": "python"
    }
  },
  "cells": [
    {
      "cell_type": "markdown",
      "metadata": {
        "id": "view-in-github",
        "colab_type": "text"
      },
      "source": [
        "<a href=\"https://colab.research.google.com/github/soofi-iglesias/MetodosNumericos2025/blob/main/ClaseErrores%2021_03.ipynb\" target=\"_parent\"><img src=\"https://colab.research.google.com/assets/colab-badge.svg\" alt=\"Open In Colab\"/></a>"
      ]
    },
    {
      "cell_type": "code",
      "execution_count": 6,
      "metadata": {
        "colab": {
          "base_uri": "https://localhost:8080/"
        },
        "id": "GHArW3lM07dn",
        "outputId": "6c7dc734-df89-4477-ef4e-d544d9730bc6"
      },
      "outputs": [
        {
          "output_type": "stream",
          "name": "stdout",
          "text": [
            "Estimación de t: 1.2284519903701503\n",
            "Error absoluto: 0.00237026157764908\n",
            "Error relativo (%): 0.001929470257063026\n"
          ]
        }
      ],
      "source": [
        "import math\n",
        "\n",
        "# Definir valores extremos\n",
        "pi_min, pi_max = 3.14155, 3.1416\n",
        "l_min, l_max = 1.495, 1.505\n",
        "g_min, g_max = 9.805, 9.815\n",
        "\n",
        "# Calcular cotas inferior y superior de t\n",
        "t_min = pi_min * math.sqrt(l_min / g_max)\n",
        "t_max = pi_max * math.sqrt(l_max / g_min)\n",
        "\n",
        "# Estimación de t\n",
        "t_estimado = (t_min + t_max) / 2\n",
        "\n",
        "# Cálculo de errores\n",
        "error_absoluto = (t_max - t_min) / 2\n",
        "error_relativo = (error_absoluto / t_estimado)\n",
        "error_relativo_porcentaje = error_relativo * 100\n",
        "\n",
        "# Mostrar resultados\n",
        "print(\"Estimación de t:\", t_estimado)\n",
        "print(\"Error absoluto:\", error_absoluto)\n",
        "print(\"Error relativo (%):\", error_relativo)\n",
        "\n",
        "\n",
        "\n",
        "\n",
        "\n"
      ]
    },
    {
      "cell_type": "code",
      "source": [
        "!git  commit -m 'probando'"
      ],
      "metadata": {
        "colab": {
          "base_uri": "https://localhost:8080/"
        },
        "id": "BxalKgo0-0ye",
        "outputId": "d4aa94ac-b58a-4443-8e78-7dd28690fcd3"
      },
      "execution_count": 3,
      "outputs": [
        {
          "output_type": "stream",
          "name": "stdout",
          "text": [
            "fatal: not a git repository (or any of the parent directories): .git\n"
          ]
        }
      ]
    },
    {
      "cell_type": "markdown",
      "source": [],
      "metadata": {
        "id": "GL2R15HR1AJh"
      }
    }
  ]
}